{
 "cells": [
  {
   "cell_type": "code",
   "execution_count": 1,
   "metadata": {
    "colab": {
     "base_uri": "https://localhost:8080/"
    },
    "executionInfo": {
     "elapsed": 528989,
     "status": "ok",
     "timestamp": 1623172892175,
     "user": {
      "displayName": "Akella Niranjan",
      "photoUrl": "https://lh3.googleusercontent.com/a-/AOh14GiS0hDW7cYrcLRQ7IP_TVEsKTd1iwuhmSjd-QBh=s64",
      "userId": "10548223611542786095"
     },
     "user_tz": -330
    },
    "id": "pBUPYa6yQbVc",
    "outputId": "09742ccf-a326-47c5-919f-7b17e619285d"
   },
   "outputs": [],
   "source": [
    "# # Download a file based on its file ID.\r\n",
    "# file_id = '18DbC6Xj4NP-hLzI14WuMaAEyq482vNfn'\r\n",
    "\r\n",
    "# # Download dataset\r\n",
    "# !gdown https://drive.google.com/uc?id={file_id}\r\n",
    "\r\n",
    "# # Unzip the downloaded file\r\n",
    "# !unzip -q PlantVillage.zip"
   ]
  },
  {
   "cell_type": "markdown",
   "metadata": {},
   "source": [
    "## Deep Learning-based Identification & Classification of Brain Tumors from Computerized Tomographic Scans for Portable Devices"
   ]
  },
  {
   "cell_type": "code",
   "execution_count": 2,
   "metadata": {
    "executionInfo": {
     "elapsed": 9244,
     "status": "ok",
     "timestamp": 1623177820513,
     "user": {
      "displayName": "Akella Niranjan",
      "photoUrl": "https://lh3.googleusercontent.com/a-/AOh14GiS0hDW7cYrcLRQ7IP_TVEsKTd1iwuhmSjd-QBh=s64",
      "userId": "10548223611542786095"
     },
     "user_tz": -330
    },
    "id": "ckkfHCP7rJhi"
   },
   "outputs": [],
   "source": [
    "import tensorflow as tf\r\n",
    "from tensorflow.keras.models import Sequential, Model\r\n",
    "from tensorflow.keras.layers import Conv2D,Activation,LeakyReLU,BatchNormalization,MaxPooling2D,Flatten,Dense,Dropout, GlobalAveragePooling2D\r\n",
    "from tensorflow.keras.optimizers import Adam\r\n",
    "from tensorflow.keras import backend as K\r\n",
    "\r\n",
    "\r\n",
    "from tensorflow.keras.preprocessing import image\r\n",
    "from tensorflow.keras.preprocessing.image import ImageDataGenerator,img_to_array\r\n",
    "import xgboost as xgb\r\n",
    "import matplotlib.pyplot as plt\r\n",
    "import pandas as pd\r\n",
    "import numpy as np\r\n",
    "\r\n",
    "import pickle\r\n",
    "import cv2\r\n",
    "import os\r\n",
    "from os import listdir\r\n",
    "from sklearn.preprocessing import LabelBinarizer,MultiLabelBinarizer\r\n",
    "from sklearn.model_selection import train_test_split\r\n",
    "\r\n",
    "from warnings import filterwarnings\r\n",
    "import seaborn as sns\r\n"
   ]
  },
  {
   "cell_type": "code",
   "execution_count": 3,
   "metadata": {
    "executionInfo": {
     "elapsed": 654,
     "status": "ok",
     "timestamp": 1623177821157,
     "user": {
      "displayName": "Akella Niranjan",
      "photoUrl": "https://lh3.googleusercontent.com/a-/AOh14GiS0hDW7cYrcLRQ7IP_TVEsKTd1iwuhmSjd-QBh=s64",
      "userId": "10548223611542786095"
     },
     "user_tz": -330
    },
    "id": "0Zqy61__Rn5L"
   },
   "outputs": [],
   "source": [
    "import pickle\r\n",
    "import cv2\r\n",
    "import os\r\n",
    "from os import listdir\r\n",
    "from sklearn.preprocessing import LabelBinarizer,MultiLabelBinarizer\r\n",
    "from sklearn.model_selection import train_test_split\r\n"
   ]
  },
  {
   "cell_type": "code",
   "execution_count": 4,
   "metadata": {},
   "outputs": [
    {
     "data": {
      "text/plain": [
       "['logs', 'Testing', 'Training']"
      ]
     },
     "execution_count": 4,
     "metadata": {},
     "output_type": "execute_result"
    }
   ],
   "source": [
    "root_dir = r'C:\\Users\\niran\\Desktop\\CVR_AI_Comp\\Brain_Scan_data'\r\n",
    "\r\n",
    "os.chdir(root_dir)\r\n",
    "listdir()"
   ]
  },
  {
   "cell_type": "code",
   "execution_count": 5,
   "metadata": {
    "executionInfo": {
     "elapsed": 371,
     "status": "ok",
     "timestamp": 1623177823254,
     "user": {
      "displayName": "Akella Niranjan",
      "photoUrl": "https://lh3.googleusercontent.com/a-/AOh14GiS0hDW7cYrcLRQ7IP_TVEsKTd1iwuhmSjd-QBh=s64",
      "userId": "10548223611542786095"
     },
     "user_tz": -330
    },
    "id": "GZ93_IycTZPa"
   },
   "outputs": [],
   "source": [
    "# Dimension of resized image\r\n",
    "DEFAULT_IMAGE_SIZE = tuple((224, 224))\r\n",
    "\r\n",
    "# Number of images used to train the model\r\n",
    "N_IMAGES = 100\r\n",
    "\r\n",
    "training_data_dir = os.path.join(root_dir,'Training')\r\n",
    "\r\n",
    "\"\"\"We use the function `convert_image_to_array` to resize an image to the size `DEFAULT_IMAGE_SIZE` we defined above.\"\"\"\r\n",
    "\r\n",
    "def convert_image_to_array(image_dir):\r\n",
    "    try:\r\n",
    "        image = cv2.imread(image_dir)\r\n",
    "        if image is not None:\r\n",
    "            image = cv2.resize(image, DEFAULT_IMAGE_SIZE)   \r\n",
    "            return img_to_array(image)\r\n",
    "        else:\r\n",
    "            return np.array([])\r\n",
    "    except Exception as e:\r\n",
    "        print(f\"Error : {e}\")\r\n",
    "        return None"
   ]
  },
  {
   "cell_type": "code",
   "execution_count": 6,
   "metadata": {
    "colab": {
     "base_uri": "https://localhost:8080/"
    },
    "executionInfo": {
     "elapsed": 11,
     "status": "ok",
     "timestamp": 1623177825147,
     "user": {
      "displayName": "Akella Niranjan",
      "photoUrl": "https://lh3.googleusercontent.com/a-/AOh14GiS0hDW7cYrcLRQ7IP_TVEsKTd1iwuhmSjd-QBh=s64",
      "userId": "10548223611542786095"
     },
     "user_tz": -330
    },
    "id": "QIXPhJmoTvyv",
    "outputId": "ba34dd43-b38c-4d19-dddc-40a942cc26e5"
   },
   "outputs": [
    {
     "name": "stdout",
     "output_type": "stream",
     "text": [
      "Load images from all classes ...\n",
      "4\n"
     ]
    }
   ],
   "source": [
    "print(\"Load images from all classes ...\")\r\n",
    "plant_disease_folder_list = listdir(training_data_dir)\r\n",
    "print(len(plant_disease_folder_list))"
   ]
  },
  {
   "cell_type": "markdown",
   "metadata": {},
   "source": [
    "# Loading Training & Validation Data"
   ]
  },
  {
   "cell_type": "code",
   "execution_count": 7,
   "metadata": {
    "colab": {
     "base_uri": "https://localhost:8080/"
    },
    "executionInfo": {
     "elapsed": 10954,
     "status": "ok",
     "timestamp": 1623177838050,
     "user": {
      "displayName": "Akella Niranjan",
      "photoUrl": "https://lh3.googleusercontent.com/a-/AOh14GiS0hDW7cYrcLRQ7IP_TVEsKTd1iwuhmSjd-QBh=s64",
      "userId": "10548223611542786095"
     },
     "user_tz": -330
    },
    "id": "VgUTu7ZFTjaD",
    "outputId": "9fc82226-e80e-4e72-f852-86fab68e327e"
   },
   "outputs": [
    {
     "name": "stdout",
     "output_type": "stream",
     "text": [
      "Loding Image Data ...\n",
      "Processing  test ...\n",
      "Processing  glioma_tumor ...\n",
      "Processing  meningioma_tumor ...\n",
      "Processing  no_tumor ...\n",
      "Processing  pituitary_tumor ...\n",
      "Processing  glioma_tumor ...\n",
      "Processing  meningioma_tumor ...\n",
      "Processing  no_tumor ...\n",
      "Processing  pituitary_tumor ...\n",
      "All the images have successfully loaded!!\n"
     ]
    }
   ],
   "source": [
    "image_list, label_list = [], []\r\n",
    "\r\n",
    "try:\r\n",
    "    print(\"Loding Image Data ...\")\r\n",
    "    for s in listdir():\r\n",
    "        complete_data_dir = os.path.join(root_dir,s) #C:\\Users\\niran\\Desktop\\CVR_AI_Comp\\Brain_Scan_data + testing/training\r\n",
    "\r\n",
    "        #List of all the folders inside it\r\n",
    "        Brain_Tumor_folders_list = listdir(s)\r\n",
    "\r\n",
    "        for Brain_Tumor_folder in Brain_Tumor_folders_list:\r\n",
    "            print(f\"Processing  {Brain_Tumor_folder} ...\")\r\n",
    "            Brain_Tumor_image_list = listdir(f\"{complete_data_dir}/{Brain_Tumor_folder}/\")\r\n",
    "\r\n",
    "            for image in Brain_Tumor_image_list[:]:\r\n",
    "                image_directory = f\"{complete_data_dir}/{Brain_Tumor_folder}/{image}\"\r\n",
    "                if image_directory.endswith(\".jpg\")==True or image_directory.endswith(\".JPG\")==True:\r\n",
    "                    image_list.append(convert_image_to_array(image_directory))\r\n",
    "                    label_list.append(Brain_Tumor_folder)\r\n",
    "\r\n",
    "    print(\"All the images have successfully loaded!!\")  \r\n",
    "except Exception as e:\r\n",
    "    print(f\"Error : {e}\")"
   ]
  },
  {
   "cell_type": "code",
   "execution_count": 8,
   "metadata": {
    "colab": {
     "base_uri": "https://localhost:8080/"
    },
    "executionInfo": {
     "elapsed": 6,
     "status": "ok",
     "timestamp": 1623177838050,
     "user": {
      "displayName": "Akella Niranjan",
      "photoUrl": "https://lh3.googleusercontent.com/a-/AOh14GiS0hDW7cYrcLRQ7IP_TVEsKTd1iwuhmSjd-QBh=s64",
      "userId": "10548223611542786095"
     },
     "user_tz": -330
    },
    "id": "Cu2DGtVGW3r3",
    "outputId": "aebba22f-7a88-4210-88f1-43597cc48156"
   },
   "outputs": [
    {
     "data": {
      "text/plain": [
       "3264"
      ]
     },
     "execution_count": 8,
     "metadata": {},
     "output_type": "execute_result"
    }
   ],
   "source": [
    "len(image_list) "
   ]
  },
  {
   "cell_type": "code",
   "execution_count": 9,
   "metadata": {
    "colab": {
     "base_uri": "https://localhost:8080/"
    },
    "executionInfo": {
     "elapsed": 11984,
     "status": "ok",
     "timestamp": 1623177852520,
     "user": {
      "displayName": "Akella Niranjan",
      "photoUrl": "https://lh3.googleusercontent.com/a-/AOh14GiS0hDW7cYrcLRQ7IP_TVEsKTd1iwuhmSjd-QBh=s64",
      "userId": "10548223611542786095"
     },
     "user_tz": -330
    },
    "id": "AgXTKzClTjLY",
    "outputId": "f9aafeb2-f6c1-477f-dbfb-2a0dd52bf1be"
   },
   "outputs": [
    {
     "name": "stdout",
     "output_type": "stream",
     "text": [
      "Total number of images: 3264\n"
     ]
    }
   ],
   "source": [
    "# Transform the loaded training image data into numpy array\r\n",
    "np_image_list = np.array(image_list, dtype=np.float16) / 255.0\r\n",
    "\r\n",
    "# Check the number of images loaded for training\r\n",
    "image_len = len(image_list)\r\n",
    "print(f\"Total number of images: {image_len}\")"
   ]
  },
  {
   "cell_type": "markdown",
   "metadata": {},
   "source": [
    "# One-Hot Encoding the labels"
   ]
  },
  {
   "cell_type": "code",
   "execution_count": 10,
   "metadata": {
    "colab": {
     "base_uri": "https://localhost:8080/"
    },
    "executionInfo": {
     "elapsed": 16,
     "status": "ok",
     "timestamp": 1623177852520,
     "user": {
      "displayName": "Akella Niranjan",
      "photoUrl": "https://lh3.googleusercontent.com/a-/AOh14GiS0hDW7cYrcLRQ7IP_TVEsKTd1iwuhmSjd-QBh=s64",
      "userId": "10548223611542786095"
     },
     "user_tz": -330
    },
    "id": "15EUEA6dUjAb",
    "outputId": "60702bd3-a1bb-4940-a20e-7fd42d9cdcd7"
   },
   "outputs": [
    {
     "name": "stdout",
     "output_type": "stream",
     "text": [
      "Total number of classes:  4\n"
     ]
    }
   ],
   "source": [
    "\"\"\"Examine the labels/classes in the training dataset.\"\"\"\r\n",
    "\r\n",
    "label_binarizer = LabelBinarizer()\r\n",
    "image_labels = label_binarizer.fit_transform(label_list)\r\n",
    "\r\n",
    "# pickle.dump(label_binarizer,open('plant_disease_label_transform.pkl', 'wb'))\r\n",
    "n_classes = len(label_binarizer.classes_)\r\n",
    "\r\n",
    "print(\"Total number of classes: \", n_classes)"
   ]
  },
  {
   "cell_type": "code",
   "execution_count": 11,
   "metadata": {},
   "outputs": [
    {
     "data": {
      "text/plain": [
       "{0: 'glioma_tumor', 1: 'meningioma_tumor', 2: 'no_tumor', 3: 'pituitary_tumor'}"
      ]
     },
     "execution_count": 11,
     "metadata": {},
     "output_type": "execute_result"
    }
   ],
   "source": [
    "tumor_labels = {index:value for index,value in enumerate(label_binarizer.classes_)}\r\n",
    "tumor_labels"
   ]
  },
  {
   "cell_type": "code",
   "execution_count": 12,
   "metadata": {},
   "outputs": [],
   "source": [
    "\"\"\"# Augment and Split Dataset\r\n",
    "Using `ImageDataGenerator` to augment data by performing various operations on the training images.\r\n",
    "\"\"\"\r\n",
    "\r\n",
    "augment = ImageDataGenerator(rotation_range=25, width_shift_range=0.1,\r\n",
    "                             height_shift_range=0.1, shear_range=0.2, \r\n",
    "                             zoom_range=0.2, horizontal_flip=True, vertical_flip=True,\r\n",
    "                             fill_mode=\"nearest\")"
   ]
  },
  {
   "cell_type": "code",
   "execution_count": 13,
   "metadata": {
    "colab": {
     "base_uri": "https://localhost:8080/"
    },
    "executionInfo": {
     "elapsed": 625,
     "status": "ok",
     "timestamp": 1623177853140,
     "user": {
      "displayName": "Akella Niranjan",
      "photoUrl": "https://lh3.googleusercontent.com/a-/AOh14GiS0hDW7cYrcLRQ7IP_TVEsKTd1iwuhmSjd-QBh=s64",
      "userId": "10548223611542786095"
     },
     "user_tz": -330
    },
    "id": "lQglwnzGYPA5",
    "outputId": "97d37b61-bf7a-4015-e0ea-5561fe1c54ab"
   },
   "outputs": [
    {
     "name": "stdout",
     "output_type": "stream",
     "text": [
      "Successfully split data into TRAIN & TEST\n"
     ]
    }
   ],
   "source": [
    "\"\"\"Splitting the data into training and test sets for validation purpose.\"\"\"\r\n",
    "\r\n",
    "#Shuffling data of training set\r\n",
    "idx = np.random.permutation(len(np_image_list))\r\n",
    "np_image_list,image_labels = np_image_list[idx], image_labels[idx]\r\n",
    "\r\n",
    "x_train, x_test, y_train, y_test = train_test_split(np_image_list, image_labels, test_size=0.1, random_state = 42)\r\n",
    "print('Successfully split data into TRAIN & TEST')\r\n"
   ]
  },
  {
   "cell_type": "code",
   "execution_count": 14,
   "metadata": {
    "colab": {
     "base_uri": "https://localhost:8080/"
    },
    "executionInfo": {
     "elapsed": 6045,
     "status": "ok",
     "timestamp": 1623177873583,
     "user": {
      "displayName": "Akella Niranjan",
      "photoUrl": "https://lh3.googleusercontent.com/a-/AOh14GiS0hDW7cYrcLRQ7IP_TVEsKTd1iwuhmSjd-QBh=s64",
      "userId": "10548223611542786095"
     },
     "user_tz": -330
    },
    "id": "a6CiKlFzrIV2",
    "outputId": "e950556d-0b24-419e-a187-72af400f6884"
   },
   "outputs": [
    {
     "name": "stdout",
     "output_type": "stream",
     "text": [
      "Model: \"sequential\"\n",
      "_________________________________________________________________\n",
      "Layer (type)                 Output Shape              Param #   \n",
      "=================================================================\n",
      "mobilenet_1.00_224 (Function (None, 7, 7, 1024)        3228864   \n",
      "_________________________________________________________________\n",
      "flatten (Flatten)            (None, 50176)             0         \n",
      "_________________________________________________________________\n",
      "my_dense (Dense)             (None, 1024)              51381248  \n",
      "_________________________________________________________________\n",
      "leaky_re_lu (LeakyReLU)      (None, 1024)              0         \n",
      "_________________________________________________________________\n",
      "batch_normalization (BatchNo (None, 1024)              4096      \n",
      "_________________________________________________________________\n",
      "dropout (Dropout)            (None, 1024)              0         \n",
      "_________________________________________________________________\n",
      "dense (Dense)                (None, 4)                 4100      \n",
      "_________________________________________________________________\n",
      "activation (Activation)      (None, 4)                 0         \n",
      "=================================================================\n",
      "Total params: 54,618,308\n",
      "Trainable params: 54,594,372\n",
      "Non-trainable params: 23,936\n",
      "_________________________________________________________________\n"
     ]
    }
   ],
   "source": [
    "\"\"\"# Build Model\r\n",
    "Defining the hyperparameters of the plant disease classification model.\r\n",
    "\"\"\"\r\n",
    "\r\n",
    "EPOCHS = 10\r\n",
    "STEPS = 100\r\n",
    "LR = 0.01 #1e-3\r\n",
    "BATCH_SIZE = 32\r\n",
    "WIDTH = 224\r\n",
    "HEIGHT = 224\r\n",
    "DEPTH = 3\r\n",
    "\r\n",
    "\"\"\"Creating a Sequential Model to build CNN for multi-class classification\"\"\"\r\n",
    "\r\n",
    "model = Sequential()\r\n",
    "inputShape = (HEIGHT, WIDTH, DEPTH)\r\n",
    "chanDim = -1\r\n",
    "\r\n",
    "if K.image_data_format() == \"channels_first\":\r\n",
    "    inputShape = (DEPTH, HEIGHT, WIDTH)\r\n",
    "    chanDim = 1\r\n",
    "\r\n",
    "\r\n",
    "\r\n",
    "mobilenet = tf.keras.applications.MobileNet(weights= \"imagenet\", include_top=False, input_shape=inputShape,pooling=max)\r\n",
    "\r\n",
    "\r\n",
    "# exceptionnet = tf.keras.applications.Xception(\r\n",
    "#     include_top=True,\r\n",
    "#     weights=\"imagenet\",\r\n",
    "#     input_tensor=None,\r\n",
    "#     input_shape=inputShape,\r\n",
    "#     pooling=None,\r\n",
    "#     classes=1000,\r\n",
    "#     classifier_activation=\"softmax\",\r\n",
    "# ) # Train: 92 Test: 90\r\n",
    "\r\n",
    "# resnet50v2 = tf.keras.applications.ResNet50V2(\r\n",
    "#     include_top=True,\r\n",
    "#     weights=\"imagenet\",\r\n",
    "#     input_tensor=None,\r\n",
    "#     input_shape=inputShape,\r\n",
    "#     pooling=max,\r\n",
    "#     classes=1000,\r\n",
    "#     classifier_activation=\"softmax\",\r\n",
    "# ) # train: 53 test: 58\r\n",
    "\r\n",
    "\r\n",
    "# model.add(Conv2D(32, (3, 3), padding=\"same\",input_shape=inputShape))\r\n",
    "# model.add(LeakyReLU(alpha=0.1))\r\n",
    "# model.add(BatchNormalization(axis=chanDim))\r\n",
    "# model.add(MaxPooling2D(pool_size=(3, 3)))\r\n",
    "# model.add(Dropout(0.25))\r\n",
    "\r\n",
    "# model.add(Conv2D(64, (3, 3), padding=\"same\"))\r\n",
    "# model.add(LeakyReLU(alpha=0.1))\r\n",
    "# model.add(BatchNormalization(axis=chanDim))\r\n",
    "\r\n",
    "# model.add(Conv2D(64, (3, 3), padding=\"same\"))\r\n",
    "# model.add(LeakyReLU(alpha=0.1))\r\n",
    "# model.add(BatchNormalization(axis=chanDim))\r\n",
    "# model.add(MaxPooling2D(pool_size=(2, 2)))\r\n",
    "# model.add(Dropout(0.25))\r\n",
    "\r\n",
    "# model.add(Conv2D(128, (3, 3), padding=\"same\"))\r\n",
    "# model.add(LeakyReLU(alpha=0.1))\r\n",
    "# model.add(BatchNormalization(axis=chanDim))\r\n",
    "\r\n",
    "# model.add(Conv2D(128, (3, 3), padding=\"same\"))\r\n",
    "# model.add(LeakyReLU(alpha=0.1))\r\n",
    "# model.add(BatchNormalization(axis=chanDim))\r\n",
    "# model.add(MaxPooling2D(pool_size=(2, 2)))\r\n",
    "# model.add(Dropout(0.25))\r\n",
    "model.add(mobilenet)\r\n",
    "\r\n",
    "model.add(Flatten())\r\n",
    "\r\n",
    "model.add(Dense(1024, name = 'my_dense'))\r\n",
    "model.add(LeakyReLU(alpha=0.1))\r\n",
    "model.add(BatchNormalization())\r\n",
    "model.add(Dropout(0.5))\r\n",
    "# model.add(GlobalAveragePooling2D(name = 'my_dense'))\r\n",
    "\r\n",
    "model.add(Dense(n_classes))\r\n",
    "model.add(Activation(\"softmax\"))\r\n",
    "\r\n",
    "model.summary()"
   ]
  },
  {
   "cell_type": "markdown",
   "metadata": {},
   "source": [
    "## Feature Extraction from the Dense Layer"
   ]
  },
  {
   "cell_type": "code",
   "execution_count": 15,
   "metadata": {
    "colab": {
     "base_uri": "https://localhost:8080/"
    },
    "executionInfo": {
     "elapsed": 458,
     "status": "ok",
     "timestamp": 1623177880481,
     "user": {
      "displayName": "Akella Niranjan",
      "photoUrl": "https://lh3.googleusercontent.com/a-/AOh14GiS0hDW7cYrcLRQ7IP_TVEsKTd1iwuhmSjd-QBh=s64",
      "userId": "10548223611542786095"
     },
     "user_tz": -330
    },
    "id": "lrPzn71H6Wdp",
    "outputId": "f5c28751-cf41-445c-b834-45aac23d36e4"
   },
   "outputs": [
    {
     "name": "stdout",
     "output_type": "stream",
     "text": [
      "Model: \"model\"\n",
      "_________________________________________________________________\n",
      "Layer (type)                 Output Shape              Param #   \n",
      "=================================================================\n",
      "mobilenet_1.00_224_input (In [(None, 224, 224, 3)]     0         \n",
      "_________________________________________________________________\n",
      "mobilenet_1.00_224 (Function (None, 7, 7, 1024)        3228864   \n",
      "_________________________________________________________________\n",
      "flatten (Flatten)            (None, 50176)             0         \n",
      "_________________________________________________________________\n",
      "my_dense (Dense)             (None, 1024)              51381248  \n",
      "=================================================================\n",
      "Total params: 54,610,112\n",
      "Trainable params: 54,588,224\n",
      "Non-trainable params: 21,888\n",
      "_________________________________________________________________\n"
     ]
    }
   ],
   "source": [
    "layer_name = 'my_dense'\r\n",
    "intermediate_layer_model = Model(inputs=model.input,outputs=model.get_layer(layer_name).output) \r\n",
    "intermediate_layer_model.summary()"
   ]
  },
  {
   "cell_type": "code",
   "execution_count": 16,
   "metadata": {
    "colab": {
     "base_uri": "https://localhost:8080/"
    },
    "executionInfo": {
     "elapsed": 826220,
     "status": "ok",
     "timestamp": 1623178709653,
     "user": {
      "displayName": "Akella Niranjan",
      "photoUrl": "https://lh3.googleusercontent.com/a-/AOh14GiS0hDW7cYrcLRQ7IP_TVEsKTd1iwuhmSjd-QBh=s64",
      "userId": "10548223611542786095"
     },
     "user_tz": -330
    },
    "id": "5FGRh6ojt96j",
    "outputId": "4cfa34e8-8760-4cca-e196-f02394234286"
   },
   "outputs": [
    {
     "name": "stdout",
     "output_type": "stream",
     "text": [
      "Training CNN...\n",
      "Epoch 1/15\n",
      "294/294 [==============================] - 52s 151ms/step - loss: 0.6282 - accuracy: 0.6983 - val_loss: 0.3802 - val_accuracy: 0.8532\n",
      "Epoch 2/15\n",
      "294/294 [==============================] - 43s 145ms/step - loss: 0.4268 - accuracy: 0.8032 - val_loss: 0.2316 - val_accuracy: 0.9021\n",
      "Epoch 3/15\n",
      "294/294 [==============================] - 43s 146ms/step - loss: 0.3271 - accuracy: 0.8396 - val_loss: 0.1606 - val_accuracy: 0.9419\n",
      "Epoch 4/15\n",
      "294/294 [==============================] - 43s 147ms/step - loss: 0.2721 - accuracy: 0.8587 - val_loss: 0.1371 - val_accuracy: 0.9388\n",
      "Epoch 5/15\n",
      "294/294 [==============================] - 44s 148ms/step - loss: 0.2404 - accuracy: 0.8696 - val_loss: 0.1202 - val_accuracy: 0.9450\n",
      "Epoch 6/15\n",
      "294/294 [==============================] - 43s 146ms/step - loss: 0.2091 - accuracy: 0.8866 - val_loss: 0.1045 - val_accuracy: 0.9572\n",
      "Epoch 7/15\n",
      "294/294 [==============================] - 44s 149ms/step - loss: 0.1917 - accuracy: 0.8996 - val_loss: 0.1255 - val_accuracy: 0.9358\n",
      "Epoch 8/15\n",
      "294/294 [==============================] - 44s 150ms/step - loss: 0.1773 - accuracy: 0.9033 - val_loss: 0.0952 - val_accuracy: 0.9541\n",
      "Epoch 9/15\n",
      "294/294 [==============================] - 43s 145ms/step - loss: 0.1802 - accuracy: 0.8968 - val_loss: 0.0649 - val_accuracy: 0.9725\n",
      "Epoch 10/15\n",
      "294/294 [==============================] - 43s 147ms/step - loss: 0.1496 - accuracy: 0.9213 - val_loss: 0.0795 - val_accuracy: 0.9572\n",
      "Epoch 11/15\n",
      "294/294 [==============================] - 43s 146ms/step - loss: 0.1439 - accuracy: 0.9186 - val_loss: 0.0873 - val_accuracy: 0.9602\n",
      "Epoch 12/15\n",
      "294/294 [==============================] - 43s 146ms/step - loss: 0.1314 - accuracy: 0.9268 - val_loss: 0.0698 - val_accuracy: 0.9572\n",
      "Epoch 13/15\n",
      "294/294 [==============================] - 43s 146ms/step - loss: 0.1238 - accuracy: 0.9346 - val_loss: 0.0904 - val_accuracy: 0.9450\n",
      "Epoch 14/15\n",
      "294/294 [==============================] - 43s 146ms/step - loss: 0.1265 - accuracy: 0.9278 - val_loss: 0.0852 - val_accuracy: 0.9541\n",
      "Epoch 15/15\n",
      "294/294 [==============================] - 43s 145ms/step - loss: 0.1153 - accuracy: 0.9401 - val_loss: 0.0461 - val_accuracy: 0.9786\n",
      "11/11 [==============================] - 1s 91ms/step - loss: 0.0461 - accuracy: 0.9786\n",
      "Test Accuracy: 97.85932898521423\n"
     ]
    }
   ],
   "source": [
    "\"\"\"# Train Model\r\n",
    "We initialize Adam optimizer with learning rate and decay parameters. \r\n",
    "Also, we choose the type of loss and metrics for the model and compile it for training.\r\n",
    "\"\"\"\r\n",
    "import datetime\r\n",
    "# steps_per_epoch=len(x_train) // BATCH_SIZE,\r\n",
    "\r\n",
    "# Initialize optimizer\r\n",
    "# opt = Adam(learning_rate=LR, decay=LR / EPOCHS)\r\n",
    "opt = tf.keras.optimizers.SGD(learning_rate=0.01, momentum=0.0, nesterov=False, name=\"SGD\")\r\n",
    "\r\n",
    "\r\n",
    "#callbacks\r\n",
    "# earlystop = tf.keras.callbacks.EarlyStopping(monitor='loss', patience=30, verbose=1, mode='auto')\r\n",
    "\r\n",
    "\r\n",
    "#Tensorboard\r\n",
    "log_dir= \".\\\\logs\\\\test\\\\\"+datetime.datetime.now().strftime(\"%Y%m%d-%H%M%S\")\r\n",
    "tensorboard_callback = tf.keras.callbacks.TensorBoard(log_dir=log_dir, histogram_freq=1)\r\n",
    "\r\n",
    "# Compile model\r\n",
    "model.compile(loss=\"binary_crossentropy\", optimizer=opt, metrics=[\"accuracy\"])\r\n",
    "\r\n",
    "# Train model\r\n",
    "print(\"Training CNN...\")\r\n",
    "history = model.fit(augment.flow(x_train, y_train, batch_size=10),\r\n",
    "                              validation_data=(x_test, y_test),\r\n",
    "                              epochs=15,\r\n",
    "                              callbacks = [tensorboard_callback],\r\n",
    "                              verbose=1)\r\n",
    "        \r\n",
    "scores = model.evaluate(x_test, y_test)\r\n",
    "print(f\"Test Accuracy: {scores[1]*100}\")\r\n"
   ]
  },
  {
   "cell_type": "code",
   "execution_count": 88,
   "metadata": {},
   "outputs": [
    {
     "name": "stderr",
     "output_type": "stream",
     "text": [
      "UsageError: Line magic function `%tensorboard` not found.\n"
     ]
    }
   ],
   "source": [
    "%tensorboard --logdir logs/fit"
   ]
  },
  {
   "cell_type": "code",
   "execution_count": null,
   "metadata": {},
   "outputs": [],
   "source": [
    "# import tensorflow as tf \r\n",
    "# import tensorflow as tf \r\n",
    "\r\n",
    "# tf.config.list_physical_devices('GPU')"
   ]
  },
  {
   "cell_type": "code",
   "execution_count": 17,
   "metadata": {},
   "outputs": [
    {
     "data": {
      "image/png": "[encoded data removed]",
      "text/plain": [
       "<Figure size 432x288 with 1 Axes>"
      ]
     },
     "metadata": {
      "needs_background": "light"
     },
     "output_type": "display_data"
    },
    {
     "data": {
      "image/png": "[encoded data removed]",
      "text/plain": [
       "<Figure size 432x288 with 1 Axes>"
      ]
     },
     "metadata": {
      "needs_background": "light"
     },
     "output_type": "display_data"
    },
    {
     "name": "stdout",
     "output_type": "stream",
     "text": [
      "[INFO] Calculating model accuracy\n",
      "11/11 [==============================] - 2s 168ms/step - loss: 0.0461 - accuracy: 0.9786\n",
      "Test Accuracy: 97.85932898521423\n"
     ]
    }
   ],
   "source": [
    "\"\"\"# Evaluate Model\r\n",
    "Comparing the accuracy and loss by plotting the graph for training and validation.\r\n",
    "\"\"\"\r\n",
    "\r\n",
    "acc = history.history['accuracy']\r\n",
    "val_acc = history.history['val_accuracy']\r\n",
    "loss = history.history['loss']\r\n",
    "val_loss = history.history['val_loss']\r\n",
    "epochs = range(1, len(acc) + 1)\r\n",
    "\r\n",
    "# Train and validation accuracy\r\n",
    "plt.plot(epochs, acc, 'b', label='Training accurarcy')\r\n",
    "plt.plot(epochs, val_acc, 'r', label='Validation accurarcy')\r\n",
    "plt.title('Training and Validation accurarcy')\r\n",
    "plt.legend()\r\n",
    "\r\n",
    "plt.figure()\r\n",
    "\r\n",
    "# Train and validation loss\r\n",
    "plt.plot(epochs, loss, 'b', label='Training loss')\r\n",
    "plt.plot(epochs, val_loss, 'r', label='Validation loss')\r\n",
    "plt.title('Training and Validation loss')\r\n",
    "plt.legend()\r\n",
    "plt.show()\r\n",
    "\r\n",
    "\"\"\"Evaluating model accuracy by using the `evaluate` method\"\"\"\r\n",
    "\r\n",
    "print(\"[INFO] Calculating model accuracy\")\r\n",
    "scores = model.evaluate(x_test, y_test)\r\n",
    "print(f\"Test Accuracy: {scores[1]*100}\")"
   ]
  },
  {
   "cell_type": "markdown",
   "metadata": {},
   "source": [
    "## Save the model and its weights in .h5 format"
   ]
  },
  {
   "cell_type": "code",
   "execution_count": 18,
   "metadata": {},
   "outputs": [],
   "source": [
    "#Saving the Model\r\n",
    "model.save('MobileNetV1_model.h5')\r\n",
    "model.save_weights('MobileNetV1_model_weights.h5')\r\n"
   ]
  },
  {
   "cell_type": "markdown",
   "metadata": {},
   "source": [
    "Save the Intermediate model and its weights in .h5 format"
   ]
  },
  {
   "cell_type": "code",
   "execution_count": 19,
   "metadata": {},
   "outputs": [
    {
     "name": "stdout",
     "output_type": "stream",
     "text": [
      "WARNING:tensorflow:Compiled the loaded model, but the compiled metrics have yet to be built. `model.compile_metrics` will be empty until you train or evaluate the model.\n"
     ]
    }
   ],
   "source": [
    "#Saving the Intermediate Model\r\n",
    "intermediate_layer_model.save('MobileNetV1_IntermediateModel.h5')\r\n",
    "intermediate_layer_model.save_weights('MobileNetV1_IntermediateModel_weights.h5')"
   ]
  },
  {
   "cell_type": "code",
   "execution_count": 20,
   "metadata": {},
   "outputs": [],
   "source": [
    "#Saving the modle in JSON format\r\n",
    "model_json = model.to_json()\r\n",
    "with open(\"model_json.json\", \"w\") as json_file:\r\n",
    "    json_file.write(model_json)\r\n",
    "\r\n",
    "IntermediateModel_json = intermediate_layer_model.to_json()\r\n",
    "with open(\"IntermediateModel_json.json\", \"w\") as json_file:\r\n",
    "    json_file.write(IntermediateModel_json)\r\n"
   ]
  },
  {
   "cell_type": "code",
   "execution_count": 21,
   "metadata": {
    "id": "Xr2hsdio8hkz"
   },
   "outputs": [
    {
     "name": "stdout",
     "output_type": "stream",
     "text": [
      "(327, 1024)\n"
     ]
    }
   ],
   "source": [
    "# from tensorflow.keras.models import load_model\r\n",
    "# ymodel = load_model(filepath = r'C:\\Users\\niran\\Desktop\\CVR_AI_Comp\\PDD_completemodel.h5')\r\n",
    "\r\n",
    "x_train_predict = intermediate_layer_model.predict(x_train)\r\n",
    "# print(x_train_predict.shape)\r\n",
    "\r\n",
    "x_test_predict = intermediate_layer_model.predict(x_test)\r\n",
    "print(x_test_predict.shape)"
   ]
  },
  {
   "cell_type": "markdown",
   "metadata": {},
   "source": [
    "# XGBoost Integration\r\n",
    "\r\n",
    "Integrating the CNN model with Extreme Gradient Boost algorithm."
   ]
  },
  {
   "cell_type": "code",
   "execution_count": 22,
   "metadata": {},
   "outputs": [
    {
     "name": "stdout",
     "output_type": "stream",
     "text": [
      "[16:32:32] WARNING: C:/Users/Administrator/workspace/xgboost-win64_release_1.4.0/src/learner.cc:1095: Starting in XGBoost 1.3.0, the default evaluation metric used with the objective 'multi:softprob' was changed from 'merror' to 'mlogloss'. Explicitly set eval_metric if you'd like to restore the old behavior.\n",
      "XGBoost Fit Complete\n"
     ]
    }
   ],
   "source": [
    "import xgboost as xgb\r\n",
    "\r\n",
    "xb = xgb.XGBClassifier(use_label_encoder=False)\r\n",
    "\r\n",
    "xb.fit(x_train_predict,np.argmax(y_train,axis=1))\r\n",
    "\r\n",
    "print('XGBoost Fit Complete')\r\n",
    "\r\n",
    "#Save XGBoost Model\r\n",
    "# pickle.dump(xb,open('xgb_model.pkl','wb'))"
   ]
  },
  {
   "cell_type": "code",
   "execution_count": 23,
   "metadata": {},
   "outputs": [
    {
     "data": {
      "text/plain": [
       "1.0"
      ]
     },
     "execution_count": 23,
     "metadata": {},
     "output_type": "execute_result"
    }
   ],
   "source": [
    "xb.score(x_train_predict,np.argmax(y_train,axis=1))"
   ]
  },
  {
   "cell_type": "code",
   "execution_count": 24,
   "metadata": {},
   "outputs": [
    {
     "data": {
      "text/plain": [
       "0.9847094801223242"
      ]
     },
     "execution_count": 24,
     "metadata": {},
     "output_type": "execute_result"
    }
   ],
   "source": [
    "xb.score(x_test_predict,np.argmax(y_test,axis=1))"
   ]
  },
  {
   "cell_type": "code",
   "execution_count": 25,
   "metadata": {},
   "outputs": [],
   "source": [
    "xb.save_model('mnv1_xgb.json')"
   ]
  },
  {
   "cell_type": "code",
   "execution_count": null,
   "metadata": {},
   "outputs": [],
   "source": [
    "# from tensorflow.keras.models import load_model\r\n",
    "\r\n",
    "# ai = load_model('D:\\PDD_Models\\HDF5\\PDD_Intermediatemodel.h5')\r\n",
    "# xgb_model = xgb.XGBClassifier()\r\n",
    "# xgb_model.load_model(r'D:\\PDD_Models\\xgb_model.json')\r\n",
    "\r\n",
    "# x2 = ai.predict(x_test)\r\n",
    "# xgb_model.score(x_test_predict,np.argmax(y_test,axis=1))"
   ]
  },
  {
   "cell_type": "markdown",
   "metadata": {},
   "source": [
    "# Further Scope of Improvement\r\n",
    "\r\n",
    "- Image processing techniques can be implemented before approaching the CNN's input layer\r\n",
    "- Developing a Real-Time PDD [Plant Disease Detection] system using Opencv\r\n",
    "- Improving the Validation Loss \r\n",
    "- Wider scope of data augmentation & manipulation for better performance\r\n",
    "- Integrating CNN with other architectures\r\n",
    "- Hyperparameter tunning\r\n",
    "- Additional Datasets\r\n",
    "- Front End development\r\n",
    "- Cross Platform application development \r\n",
    "- Deploying the AI model onto Companion computers for real-time application "
   ]
  },
  {
   "cell_type": "code",
   "execution_count": null,
   "metadata": {},
   "outputs": [],
   "source": [
    "from tensorflow.keras.models import load_model\r\n",
    "mnv1 = load_model(r'C:\\Users\\niran\\Desktop\\CVR_AI_Comp\\MobileNetV1\\MobileNetV1_model.h5')\r\n",
    "mnv1.summary()"
   ]
  },
  {
   "cell_type": "code",
   "execution_count": null,
   "metadata": {},
   "outputs": [],
   "source": [
    "history = mnv1.fit(augment.flow(x_train, y_train, batch_size=15),\r\n",
    "                              validation_data=(x_test, y_test),\r\n",
    "                              epochs=15,\r\n",
    "                              verbose=1)"
   ]
  },
  {
   "cell_type": "code",
   "execution_count": 35,
   "metadata": {},
   "outputs": [
    {
     "data": {
      "text/plain": [
       "{0: 'glioma_tumor', 1: 'meningioma_tumor', 2: 'no_tumor', 3: 'pituitary_tumor'}"
      ]
     },
     "execution_count": 35,
     "metadata": {},
     "output_type": "execute_result"
    }
   ],
   "source": [
    "tumor_labels"
   ]
  },
  {
   "cell_type": "code",
   "execution_count": 58,
   "metadata": {},
   "outputs": [
    {
     "name": "stdout",
     "output_type": "stream",
     "text": [
      "meningioma_tumor has been detected!!\n"
     ]
    }
   ],
   "source": [
    "img_path = r'C:\\Users\\niran\\Desktop\\CVR_AI_Comp\\meningiomaa.jpg'\r\n",
    "img_array_list = []\r\n",
    "img_array_list.append(convert_image_to_array(img_path))\r\n",
    "np_predict_img = np.array(img_array_list, dtype=np.float16) / 255.0\r\n",
    "intermodel_prediction = intermediate_layer_model.predict(np_predict_img)\r\n",
    "xb_prediction = xb.predict(intermodel_prediction)\r\n",
    "print(tumor_labels[list(xb_prediction)[0]]+' has been detected!!')\r\n"
   ]
  },
  {
   "cell_type": "markdown",
   "metadata": {},
   "source": [
    "# Convert saved model to Tensorflow Lite Model"
   ]
  },
  {
   "cell_type": "code",
   "execution_count": 63,
   "metadata": {},
   "outputs": [],
   "source": [
    "converter = tf.lite.TFLiteConverter.from_saved_model(r'C:\\Users\\niran\\Desktop\\CVR_AI_Comp\\Brain_Scan_data\\Model') # path to the SavedModel directory\r\n",
    "tflite_model = converter.convert()\r\n",
    "\r\n",
    "# Save the model.\r\n",
    "with open('tflite_model.tflite', 'wb') as f:\r\n",
    "  f.write(tflite_model)"
   ]
  },
  {
   "cell_type": "code",
   "execution_count": 61,
   "metadata": {},
   "outputs": [
    {
     "name": "stderr",
     "output_type": "stream",
     "text": [
      "WARNING:absl:Function `_wrapped_model` contains input name(s) mobilenet_1.00_224_input with unsupported characters which will be renamed to mobilenet_1_00_224_input in the SavedModel.\n"
     ]
    },
    {
     "name": "stdout",
     "output_type": "stream",
     "text": [
      "INFO:tensorflow:Assets written to: Model\\assets\n"
     ]
    },
    {
     "name": "stderr",
     "output_type": "stream",
     "text": [
      "INFO:tensorflow:Assets written to: Model\\assets\n"
     ]
    }
   ],
   "source": [
    "model.save('Model')"
   ]
  },
  {
   "cell_type": "code",
   "execution_count": null,
   "metadata": {},
   "outputs": [],
   "source": []
  }
 ],
 "metadata": {
  "accelerator": "GPU",
  "colab": {
   "authorship_tag": "ABX9TyMYnTMjyEbKj3D0r2HxMd9C",
   "name": "Plant_Disease_Detection.ipynb",
   "provenance": []
  },
  "interpreter": {
   "hash": "64c1db036c245e91d1c2d164e41aef3f7526caa4d16da4bd1475087c34dc1c7b"
  },
  "kernelspec": {
   "display_name": "Python 3.8.10 64-bit ('DL': conda)",
   "name": "python3"
  },
  "language_info": {
   "codemirror_mode": {
    "name": "ipython",
    "version": 3
   },
   "file_extension": ".py",
   "mimetype": "text/x-python",
   "name": "python",
   "nbconvert_exporter": "python",
   "pygments_lexer": "ipython3",
   "version": "3.8.10"
  }
 },
 "nbformat": 4,
 "nbformat_minor": 4
}